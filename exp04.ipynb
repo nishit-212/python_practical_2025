{
  "metadata": {
    "kernelspec": {
      "name": "python",
      "display_name": "Python (Pyodide)",
      "language": "python"
    },
    "language_info": {
      "codemirror_mode": {
        "name": "python",
        "version": 3
      },
      "file_extension": ".py",
      "mimetype": "text/x-python",
      "name": "python",
      "nbconvert_exporter": "python",
      "pygments_lexer": "ipython3",
      "version": "3.8"
    }
  },
  "nbformat_minor": 5,
  "nbformat": 4,
  "cells": [
    {
      "id": "b81f7fdf-3d8c-4f87-a3f8-77b2ecec552d",
      "cell_type": "code",
      "source": "\n\n # Remove the pass and call the function to perform write.\n    # Read the file that was created while writing.\n    # Make the changes in the file by appending some material.\n    # Again read the same file.\n\n'''\nPrint all the output of the function.\nFor better representation, please use jupyter.\nWill also aid in easy maintanence of files for submissions.\n'''\n\nfrom contextlib import contextmanager\n\n@contextmanager\ndef genericFileFunction (filename, method):\n    file = open (filename, method)\n    yield file\n    file.close ()\n\nif __name__ == '__main__':\n    try:\n        with genericFileFunction(\"trial.txt\",\"w\") as f:\n            f.write(\"Hello I Am Nishit\")\n            print(\"\\nWriting complete!\")\n\n        with genericFileFunction(\"trial.txt\",\"r\") as f:\n            print(f.read())\n\n        with genericFileFunction(\"trial.txt\",\"a\") as f:\n            f.write(\" I am a student.\")\n            print(\"\\nAppending complete!\")\n\n        with genericFileFunction(\"trial.txt\",\"r\") as f:\n            print(f.read())\n\n    except Exception as e:\n        print(e)\n\n     \n\n\n\n     ",
      "metadata": {
        "trusted": true
      },
      "outputs": [
        {
          "name": "stdout",
          "output_type": "stream",
          "text": "\nWriting complete!\nHello I Am Nishit\n\nAppending complete!\nHello I Am Nishit I am a student.\n"
        }
      ],
      "execution_count": 1
    },
    {
      "id": "dd1f3858-d2a5-4c8e-a4cd-d9943f07594e",
      "cell_type": "code",
      "source": "",
      "metadata": {
        "trusted": true
      },
      "outputs": [],
      "execution_count": null
    }
  ]
}